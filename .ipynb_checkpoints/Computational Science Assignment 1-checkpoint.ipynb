{
 "cells": [
  {
   "cell_type": "code",
   "execution_count": 15,
   "metadata": {},
   "outputs": [],
   "source": [
    "import numpy as np"
   ]
  },
  {
   "cell_type": "code",
   "execution_count": 16,
   "metadata": {},
   "outputs": [],
   "source": [
    "import matplotlib.pyplot as plt"
   ]
  },
  {
   "cell_type": "code",
   "execution_count": 23,
   "metadata": {},
   "outputs": [],
   "source": [
    "#Question 1A\n",
    "def VectorLength(x,y):\n",
    " v = (np.sqrt(x**2+y**2))\n",
    " return v"
   ]
  },
  {
   "cell_type": "code",
   "execution_count": 24,
   "metadata": {},
   "outputs": [
    {
     "name": "stdout",
     "output_type": "stream",
     "text": [
      "7.810249675906654\n",
      "5.0990195135927845\n"
     ]
    }
   ],
   "source": [
    "#Question 1B\n",
    "print (VectorLength(5, 6))\n",
    "print (VectorLength(-1, 5))"
   ]
  },
  {
   "cell_type": "code",
   "execution_count": 25,
   "metadata": {},
   "outputs": [
    {
     "name": "stdout",
     "output_type": "stream",
     "text": [
      "sin(1) = 0.841\n"
     ]
    }
   ],
   "source": [
    "#Question 1C\n",
    "print (\"sin(1) = %.3f\" % np.sin(1))\n"
   ]
  },
  {
   "cell_type": "code",
   "execution_count": 8,
   "metadata": {},
   "outputs": [],
   "source": [
    "\n"
   ]
  },
  {
   "cell_type": "code",
   "execution_count": 30,
   "metadata": {},
   "outputs": [],
   "source": [
    "#Question 2A\n",
    "\n",
    "#Function to check if a number is prime\n",
    "def IsPrime(n):\n",
    "    if n == 1:\n",
    "        return 0\n",
    "    i=2\n",
    "    while i <= np.sqrt(n):\n",
    "        #For each i check if it divides n\n",
    "        if(n % i == 0):\n",
    "            return 0\n",
    "        i += 1\n",
    "        #If no divisors are found, the number is prime\n",
    "        return 1\n"
   ]
  },
  {
   "cell_type": "code",
   "execution_count": 28,
   "metadata": {},
   "outputs": [
    {
     "name": "stdout",
     "output_type": "stream",
     "text": [
      "0\n"
     ]
    }
   ],
   "source": [
    "print (IsPrime(1))"
   ]
  },
  {
   "cell_type": "code",
   "execution_count": 32,
   "metadata": {},
   "outputs": [
    {
     "name": "stdout",
     "output_type": "stream",
     "text": [
      "None\n"
     ]
    }
   ],
   "source": [
    "print (IsPrime(2))"
   ]
  },
  {
   "cell_type": "code",
   "execution_count": 33,
   "metadata": {},
   "outputs": [
    {
     "name": "stdout",
     "output_type": "stream",
     "text": [
      "None\n"
     ]
    }
   ],
   "source": [
    "print (IsPrime(3))"
   ]
  },
  {
   "cell_type": "code",
   "execution_count": 34,
   "metadata": {},
   "outputs": [
    {
     "name": "stdout",
     "output_type": "stream",
     "text": [
      "0\n"
     ]
    }
   ],
   "source": [
    "print (IsPrime(4))"
   ]
  },
  {
   "cell_type": "code",
   "execution_count": 35,
   "metadata": {},
   "outputs": [
    {
     "name": "stdout",
     "output_type": "stream",
     "text": [
      "1\n"
     ]
    }
   ],
   "source": [
    "print (IsPrime(5))"
   ]
  },
  {
   "cell_type": "code",
   "execution_count": 36,
   "metadata": {},
   "outputs": [
    {
     "name": "stdout",
     "output_type": "stream",
     "text": [
      "0\n"
     ]
    }
   ],
   "source": [
    "print (IsPrime(6))"
   ]
  },
  {
   "cell_type": "code",
   "execution_count": 37,
   "metadata": {},
   "outputs": [
    {
     "name": "stdout",
     "output_type": "stream",
     "text": [
      "1\n"
     ]
    }
   ],
   "source": [
    "print (IsPrime(7))"
   ]
  },
  {
   "cell_type": "code",
   "execution_count": 38,
   "metadata": {},
   "outputs": [
    {
     "name": "stdout",
     "output_type": "stream",
     "text": [
      "0\n"
     ]
    }
   ],
   "source": [
    "print (IsPrime(8))"
   ]
  },
  {
   "cell_type": "code",
   "execution_count": 39,
   "metadata": {},
   "outputs": [
    {
     "name": "stdout",
     "output_type": "stream",
     "text": [
      "1\n"
     ]
    }
   ],
   "source": [
    "print (IsPrime(9))"
   ]
  },
  {
   "cell_type": "code",
   "execution_count": 40,
   "metadata": {},
   "outputs": [
    {
     "name": "stdout",
     "output_type": "stream",
     "text": [
      "0\n"
     ]
    }
   ],
   "source": [
    "print (IsPrime(10))"
   ]
  },
  {
   "cell_type": "code",
   "execution_count": null,
   "metadata": {},
   "outputs": [],
   "source": [
    "#Question 2E\n",
    "# Function that calculates the number of prime numbers less than 1000\n",
    "i=1\n",
    "count=0     #starting count from\n",
    "while i <= 1000:\n",
    "    if(IsPrime(i)==1):\n",
    "        count+=1\n",
    "        i += 1 \n",
    "        print(count)"
   ]
  },
  {
   "cell_type": "code",
   "execution_count": 42,
   "metadata": {},
   "outputs": [],
   "source": [
    "#Question 2F\n",
    "def PrimeCount(x):\n",
    "    tp=0\n",
    "    for n in range(1,x+1):\n",
    "        if IsPrime(n)==1:\n",
    "            tp+=1\n",
    "            return tp\n",
    "            \n",
    "            "
   ]
  },
  {
   "cell_type": "code",
   "execution_count": 43,
   "metadata": {},
   "outputs": [
    {
     "data": {
      "text/plain": [
       "1"
      ]
     },
     "execution_count": 43,
     "metadata": {},
     "output_type": "execute_result"
    }
   ],
   "source": [
    "PrimeCount(1000)"
   ]
  },
  {
   "cell_type": "code",
   "execution_count": 44,
   "metadata": {},
   "outputs": [
    {
     "data": {
      "text/plain": [
       "1"
      ]
     },
     "execution_count": 44,
     "metadata": {},
     "output_type": "execute_result"
    }
   ],
   "source": [
    "PrimeCount(10000)"
   ]
  },
  {
   "cell_type": "code",
   "execution_count": 46,
   "metadata": {},
   "outputs": [],
   "source": [
    "#Question 2G\n",
    "x = np.arange(0,40,1)\n",
    "pi = np.zeros(40)\n",
    "i=0\n",
    "while i < np.size(pi):\n",
    "    pi[i] = PrimeCount(i)\n",
    "    i +=1"
   ]
  },
  {
   "cell_type": "code",
   "execution_count": 47,
   "metadata": {},
   "outputs": [
    {
     "data": {
      "text/plain": [
       "Text(0, 0.5, 'Pi(x)')"
      ]
     },
     "execution_count": 47,
     "metadata": {},
     "output_type": "execute_result"
    },
    {
     "data": {
      "image/png": "[encoded data removed]",
      "text/plain": [
       "<Figure size 432x288 with 1 Axes>"
      ]
     },
     "metadata": {
      "needs_background": "light"
     },
     "output_type": "display_data"
    }
   ],
   "source": [
    "plt.plot(x,pi,'ro')\n",
    "plt.grid(True)\n",
    "plt.xlabel('x')\n",
    "plt.ylabel('Pi(x)')"
   ]
  },
  {
   "cell_type": "code",
   "execution_count": 49,
   "metadata": {},
   "outputs": [
    {
     "name": "stdout",
     "output_type": "stream",
     "text": [
      "[[1.000e-01 1.000e-02]\n",
      " [2.000e-01 4.000e-02]\n",
      " [3.000e-01 9.000e-02]\n",
      " [4.000e-01 1.600e-01]\n",
      " [5.000e-01 2.500e-01]\n",
      " [6.000e-01 3.600e-01]\n",
      " [7.000e-01 4.900e-01]\n",
      " [8.000e-01 6.400e-01]\n",
      " [9.000e-01 8.100e-01]\n",
      " [1.000e+00 1.000e+00]\n",
      " [1.100e+00 1.210e+00]\n",
      " [1.200e+00 1.440e+00]\n",
      " [1.300e+00 1.690e+00]\n",
      " [1.400e+00 1.960e+00]\n",
      " [1.500e+00 2.250e+00]\n",
      " [1.600e+00 2.560e+00]\n",
      " [1.700e+00 2.890e+00]\n",
      " [1.800e+00 3.240e+00]\n",
      " [1.900e+00 3.610e+00]\n",
      " [2.000e+00 4.000e+00]\n",
      " [2.100e+00 4.410e+00]\n",
      " [2.200e+00 4.840e+00]\n",
      " [2.300e+00 5.290e+00]\n",
      " [2.400e+00 5.760e+00]\n",
      " [2.500e+00 6.250e+00]\n",
      " [2.600e+00 6.760e+00]\n",
      " [2.700e+00 7.290e+00]\n",
      " [2.800e+00 7.840e+00]\n",
      " [2.900e+00 8.410e+00]\n",
      " [3.000e+00 9.000e+00]\n",
      " [3.100e+00 9.610e+00]\n",
      " [3.200e+00 1.024e+01]\n",
      " [3.300e+00 1.089e+01]\n",
      " [3.400e+00 1.156e+01]\n",
      " [3.500e+00 1.225e+01]\n",
      " [3.600e+00 1.296e+01]\n",
      " [3.700e+00 1.369e+01]\n",
      " [3.800e+00 1.444e+01]\n",
      " [3.900e+00 1.521e+01]\n",
      " [4.000e+00 1.600e+01]\n",
      " [4.100e+00 1.681e+01]\n",
      " [4.200e+00 1.764e+01]\n",
      " [4.300e+00 1.849e+01]\n",
      " [4.400e+00 1.936e+01]\n",
      " [4.500e+00 2.025e+01]\n",
      " [4.600e+00 2.116e+01]\n",
      " [4.700e+00 2.209e+01]\n",
      " [4.800e+00 2.304e+01]\n",
      " [4.900e+00 2.401e+01]\n",
      " [5.000e+00 2.500e+01]\n",
      " [5.100e+00 2.601e+01]\n",
      " [5.200e+00 2.704e+01]\n",
      " [5.300e+00 2.809e+01]\n",
      " [5.400e+00 2.916e+01]\n",
      " [5.500e+00 3.025e+01]\n",
      " [5.600e+00 3.136e+01]\n",
      " [5.700e+00 3.249e+01]\n",
      " [5.800e+00 3.364e+01]\n",
      " [5.900e+00 3.481e+01]\n",
      " [6.000e+00 3.600e+01]\n",
      " [6.100e+00 3.721e+01]\n",
      " [6.200e+00 3.844e+01]\n",
      " [6.300e+00 3.969e+01]\n",
      " [6.400e+00 4.096e+01]\n",
      " [6.500e+00 4.225e+01]\n",
      " [6.600e+00 4.356e+01]\n",
      " [6.700e+00 4.489e+01]\n",
      " [6.800e+00 4.624e+01]\n",
      " [6.900e+00 4.761e+01]\n",
      " [7.000e+00 4.900e+01]\n",
      " [7.100e+00 5.041e+01]\n",
      " [7.200e+00 5.184e+01]\n",
      " [7.300e+00 5.329e+01]\n",
      " [7.400e+00 5.476e+01]\n",
      " [7.500e+00 5.625e+01]\n",
      " [7.600e+00 5.776e+01]\n",
      " [7.700e+00 5.929e+01]\n",
      " [7.800e+00 6.084e+01]\n",
      " [7.900e+00 6.241e+01]\n",
      " [8.000e+00 6.400e+01]\n",
      " [8.100e+00 6.561e+01]\n",
      " [8.200e+00 6.724e+01]\n",
      " [8.300e+00 6.889e+01]\n",
      " [8.400e+00 7.056e+01]\n",
      " [8.500e+00 7.225e+01]\n",
      " [8.600e+00 7.396e+01]\n",
      " [8.700e+00 7.569e+01]\n",
      " [8.800e+00 7.744e+01]\n",
      " [8.900e+00 7.921e+01]\n",
      " [9.000e+00 8.100e+01]\n",
      " [9.100e+00 8.281e+01]\n",
      " [9.200e+00 8.464e+01]\n",
      " [9.300e+00 8.649e+01]\n",
      " [9.400e+00 8.836e+01]\n",
      " [9.500e+00 9.025e+01]\n",
      " [9.600e+00 9.216e+01]\n",
      " [9.700e+00 9.409e+01]\n",
      " [9.800e+00 9.604e+01]\n",
      " [9.900e+00 9.801e+01]\n",
      " [1.000e+01 1.000e+02]]\n"
     ]
    }
   ],
   "source": [
    "#Question 3A\n",
    "data = np.loadtxt(\"PowerLawOrExponential.txt\")\n",
    "print(data)"
   ]
  },
  {
   "cell_type": "code",
   "execution_count": 50,
   "metadata": {},
   "outputs": [
    {
     "name": "stdout",
     "output_type": "stream",
     "text": [
      "[ 0.1  0.2  0.3  0.4  0.5  0.6  0.7  0.8  0.9  1.   1.1  1.2  1.3  1.4\n",
      "  1.5  1.6  1.7  1.8  1.9  2.   2.1  2.2  2.3  2.4  2.5  2.6  2.7  2.8\n",
      "  2.9  3.   3.1  3.2  3.3  3.4  3.5  3.6  3.7  3.8  3.9  4.   4.1  4.2\n",
      "  4.3  4.4  4.5  4.6  4.7  4.8  4.9  5.   5.1  5.2  5.3  5.4  5.5  5.6\n",
      "  5.7  5.8  5.9  6.   6.1  6.2  6.3  6.4  6.5  6.6  6.7  6.8  6.9  7.\n",
      "  7.1  7.2  7.3  7.4  7.5  7.6  7.7  7.8  7.9  8.   8.1  8.2  8.3  8.4\n",
      "  8.5  8.6  8.7  8.8  8.9  9.   9.1  9.2  9.3  9.4  9.5  9.6  9.7  9.8\n",
      "  9.9 10. ]\n",
      "[1.000e-02 4.000e-02 9.000e-02 1.600e-01 2.500e-01 3.600e-01 4.900e-01\n",
      " 6.400e-01 8.100e-01 1.000e+00 1.210e+00 1.440e+00 1.690e+00 1.960e+00\n",
      " 2.250e+00 2.560e+00 2.890e+00 3.240e+00 3.610e+00 4.000e+00 4.410e+00\n",
      " 4.840e+00 5.290e+00 5.760e+00 6.250e+00 6.760e+00 7.290e+00 7.840e+00\n",
      " 8.410e+00 9.000e+00 9.610e+00 1.024e+01 1.089e+01 1.156e+01 1.225e+01\n",
      " 1.296e+01 1.369e+01 1.444e+01 1.521e+01 1.600e+01 1.681e+01 1.764e+01\n",
      " 1.849e+01 1.936e+01 2.025e+01 2.116e+01 2.209e+01 2.304e+01 2.401e+01\n",
      " 2.500e+01 2.601e+01 2.704e+01 2.809e+01 2.916e+01 3.025e+01 3.136e+01\n",
      " 3.249e+01 3.364e+01 3.481e+01 3.600e+01 3.721e+01 3.844e+01 3.969e+01\n",
      " 4.096e+01 4.225e+01 4.356e+01 4.489e+01 4.624e+01 4.761e+01 4.900e+01\n",
      " 5.041e+01 5.184e+01 5.329e+01 5.476e+01 5.625e+01 5.776e+01 5.929e+01\n",
      " 6.084e+01 6.241e+01 6.400e+01 6.561e+01 6.724e+01 6.889e+01 7.056e+01\n",
      " 7.225e+01 7.396e+01 7.569e+01 7.744e+01 7.921e+01 8.100e+01 8.281e+01\n",
      " 8.464e+01 8.649e+01 8.836e+01 9.025e+01 9.216e+01 9.409e+01 9.604e+01\n",
      " 9.801e+01 1.000e+02]\n"
     ]
    }
   ],
   "source": [
    "#Question 3B\n",
    "x1 = data [:,0]\n",
    "y1 = data [:,1]\n",
    "print(x1)\n",
    "print(y1)"
   ]
  },
  {
   "cell_type": "code",
   "execution_count": 51,
   "metadata": {},
   "outputs": [
    {
     "data": {
      "image/png": "[encoded data removed]",
      "text/plain": [
       "<Figure size 432x288 with 1 Axes>"
      ]
     },
     "metadata": {
      "needs_background": "light"
     },
     "output_type": "display_data"
    }
   ],
   "source": [
    "#Question 3C\n",
    "plt.title(\"x vs. Log(y)\")\n",
    "plt.xlabel(\"x\")\n",
    "plt.ylabel(\"Log(y)\")\n",
    "plt.plot(x1,np.log(y1))\n",
    "plt.grid(True)"
   ]
  },
  {
   "cell_type": "code",
   "execution_count": 54,
   "metadata": {},
   "outputs": [
    {
     "ename": "ValueError",
     "evalue": "Illegal format string \"r - -\"; two linestyle symbols",
     "output_type": "error",
     "traceback": [
      "\u001b[1;31m---------------------------------------------------------------------------\u001b[0m",
      "\u001b[1;31mValueError\u001b[0m                                Traceback (most recent call last)",
      "\u001b[1;32m<ipython-input-54-b7784d137398>\u001b[0m in \u001b[0;36m<module>\u001b[1;34m\u001b[0m\n\u001b[0;32m      3\u001b[0m \u001b[0mplt\u001b[0m\u001b[1;33m.\u001b[0m\u001b[0mxlabel\u001b[0m\u001b[1;33m(\u001b[0m\u001b[1;34m\"Log(x)\"\u001b[0m\u001b[1;33m)\u001b[0m\u001b[1;33m\u001b[0m\u001b[1;33m\u001b[0m\u001b[0m\n\u001b[0;32m      4\u001b[0m \u001b[0mplt\u001b[0m\u001b[1;33m.\u001b[0m\u001b[0mylabel\u001b[0m\u001b[1;33m(\u001b[0m\u001b[1;34m\"Log(y)\"\u001b[0m\u001b[1;33m)\u001b[0m\u001b[1;33m\u001b[0m\u001b[1;33m\u001b[0m\u001b[0m\n\u001b[1;32m----> 5\u001b[1;33m \u001b[0mplt\u001b[0m\u001b[1;33m.\u001b[0m\u001b[0mplot\u001b[0m\u001b[1;33m(\u001b[0m\u001b[0mnp\u001b[0m\u001b[1;33m.\u001b[0m\u001b[0mlog\u001b[0m\u001b[1;33m(\u001b[0m\u001b[0mx1\u001b[0m\u001b[1;33m)\u001b[0m\u001b[1;33m,\u001b[0m \u001b[0mnp\u001b[0m\u001b[1;33m.\u001b[0m\u001b[0mlog\u001b[0m\u001b[1;33m(\u001b[0m\u001b[0my1\u001b[0m\u001b[1;33m)\u001b[0m\u001b[1;33m,\u001b[0m \u001b[1;34m\"r - -\"\u001b[0m\u001b[1;33m)\u001b[0m\u001b[1;33m\u001b[0m\u001b[1;33m\u001b[0m\u001b[0m\n\u001b[0m\u001b[0;32m      6\u001b[0m \u001b[0mplt\u001b[0m\u001b[1;33m.\u001b[0m\u001b[0mgrid\u001b[0m\u001b[1;33m(\u001b[0m\u001b[1;32mTrue\u001b[0m\u001b[1;33m)\u001b[0m\u001b[1;33m\u001b[0m\u001b[1;33m\u001b[0m\u001b[0m\n",
      "\u001b[1;32m~\\Documents\\Anaconda\\lib\\site-packages\\matplotlib\\pyplot.py\u001b[0m in \u001b[0;36mplot\u001b[1;34m(scalex, scaley, data, *args, **kwargs)\u001b[0m\n\u001b[0;32m   2793\u001b[0m     return gca().plot(\n\u001b[0;32m   2794\u001b[0m         *args, scalex=scalex, scaley=scaley, **({\"data\": data} if data\n\u001b[1;32m-> 2795\u001b[1;33m         is not None else {}), **kwargs)\n\u001b[0m\u001b[0;32m   2796\u001b[0m \u001b[1;33m\u001b[0m\u001b[0m\n\u001b[0;32m   2797\u001b[0m \u001b[1;33m\u001b[0m\u001b[0m\n",
      "\u001b[1;32m~\\Documents\\Anaconda\\lib\\site-packages\\matplotlib\\axes\\_axes.py\u001b[0m in \u001b[0;36mplot\u001b[1;34m(self, scalex, scaley, data, *args, **kwargs)\u001b[0m\n\u001b[0;32m   1664\u001b[0m         \"\"\"\n\u001b[0;32m   1665\u001b[0m         \u001b[0mkwargs\u001b[0m \u001b[1;33m=\u001b[0m \u001b[0mcbook\u001b[0m\u001b[1;33m.\u001b[0m\u001b[0mnormalize_kwargs\u001b[0m\u001b[1;33m(\u001b[0m\u001b[0mkwargs\u001b[0m\u001b[1;33m,\u001b[0m \u001b[0mmlines\u001b[0m\u001b[1;33m.\u001b[0m\u001b[0mLine2D\u001b[0m\u001b[1;33m.\u001b[0m\u001b[0m_alias_map\u001b[0m\u001b[1;33m)\u001b[0m\u001b[1;33m\u001b[0m\u001b[1;33m\u001b[0m\u001b[0m\n\u001b[1;32m-> 1666\u001b[1;33m         \u001b[0mlines\u001b[0m \u001b[1;33m=\u001b[0m \u001b[1;33m[\u001b[0m\u001b[1;33m*\u001b[0m\u001b[0mself\u001b[0m\u001b[1;33m.\u001b[0m\u001b[0m_get_lines\u001b[0m\u001b[1;33m(\u001b[0m\u001b[1;33m*\u001b[0m\u001b[0margs\u001b[0m\u001b[1;33m,\u001b[0m \u001b[0mdata\u001b[0m\u001b[1;33m=\u001b[0m\u001b[0mdata\u001b[0m\u001b[1;33m,\u001b[0m \u001b[1;33m**\u001b[0m\u001b[0mkwargs\u001b[0m\u001b[1;33m)\u001b[0m\u001b[1;33m]\u001b[0m\u001b[1;33m\u001b[0m\u001b[1;33m\u001b[0m\u001b[0m\n\u001b[0m\u001b[0;32m   1667\u001b[0m         \u001b[1;32mfor\u001b[0m \u001b[0mline\u001b[0m \u001b[1;32min\u001b[0m \u001b[0mlines\u001b[0m\u001b[1;33m:\u001b[0m\u001b[1;33m\u001b[0m\u001b[1;33m\u001b[0m\u001b[0m\n\u001b[0;32m   1668\u001b[0m             \u001b[0mself\u001b[0m\u001b[1;33m.\u001b[0m\u001b[0madd_line\u001b[0m\u001b[1;33m(\u001b[0m\u001b[0mline\u001b[0m\u001b[1;33m)\u001b[0m\u001b[1;33m\u001b[0m\u001b[1;33m\u001b[0m\u001b[0m\n",
      "\u001b[1;32m~\\Documents\\Anaconda\\lib\\site-packages\\matplotlib\\axes\\_base.py\u001b[0m in \u001b[0;36m__call__\u001b[1;34m(self, *args, **kwargs)\u001b[0m\n\u001b[0;32m    223\u001b[0m                 \u001b[0mthis\u001b[0m \u001b[1;33m+=\u001b[0m \u001b[0margs\u001b[0m\u001b[1;33m[\u001b[0m\u001b[1;36m0\u001b[0m\u001b[1;33m]\u001b[0m\u001b[1;33m,\u001b[0m\u001b[1;33m\u001b[0m\u001b[1;33m\u001b[0m\u001b[0m\n\u001b[0;32m    224\u001b[0m                 \u001b[0margs\u001b[0m \u001b[1;33m=\u001b[0m \u001b[0margs\u001b[0m\u001b[1;33m[\u001b[0m\u001b[1;36m1\u001b[0m\u001b[1;33m:\u001b[0m\u001b[1;33m]\u001b[0m\u001b[1;33m\u001b[0m\u001b[1;33m\u001b[0m\u001b[0m\n\u001b[1;32m--> 225\u001b[1;33m             \u001b[1;32myield\u001b[0m \u001b[1;32mfrom\u001b[0m \u001b[0mself\u001b[0m\u001b[1;33m.\u001b[0m\u001b[0m_plot_args\u001b[0m\u001b[1;33m(\u001b[0m\u001b[0mthis\u001b[0m\u001b[1;33m,\u001b[0m \u001b[0mkwargs\u001b[0m\u001b[1;33m)\u001b[0m\u001b[1;33m\u001b[0m\u001b[1;33m\u001b[0m\u001b[0m\n\u001b[0m\u001b[0;32m    226\u001b[0m \u001b[1;33m\u001b[0m\u001b[0m\n\u001b[0;32m    227\u001b[0m     \u001b[1;32mdef\u001b[0m \u001b[0mget_next_color\u001b[0m\u001b[1;33m(\u001b[0m\u001b[0mself\u001b[0m\u001b[1;33m)\u001b[0m\u001b[1;33m:\u001b[0m\u001b[1;33m\u001b[0m\u001b[1;33m\u001b[0m\u001b[0m\n",
      "\u001b[1;32m~\\Documents\\Anaconda\\lib\\site-packages\\matplotlib\\axes\\_base.py\u001b[0m in \u001b[0;36m_plot_args\u001b[1;34m(self, tup, kwargs)\u001b[0m\n\u001b[0;32m    364\u001b[0m         \u001b[0mret\u001b[0m \u001b[1;33m=\u001b[0m \u001b[1;33m[\u001b[0m\u001b[1;33m]\u001b[0m\u001b[1;33m\u001b[0m\u001b[1;33m\u001b[0m\u001b[0m\n\u001b[0;32m    365\u001b[0m         \u001b[1;32mif\u001b[0m \u001b[0mlen\u001b[0m\u001b[1;33m(\u001b[0m\u001b[0mtup\u001b[0m\u001b[1;33m)\u001b[0m \u001b[1;33m>\u001b[0m \u001b[1;36m1\u001b[0m \u001b[1;32mand\u001b[0m \u001b[0misinstance\u001b[0m\u001b[1;33m(\u001b[0m\u001b[0mtup\u001b[0m\u001b[1;33m[\u001b[0m\u001b[1;33m-\u001b[0m\u001b[1;36m1\u001b[0m\u001b[1;33m]\u001b[0m\u001b[1;33m,\u001b[0m \u001b[0mstr\u001b[0m\u001b[1;33m)\u001b[0m\u001b[1;33m:\u001b[0m\u001b[1;33m\u001b[0m\u001b[1;33m\u001b[0m\u001b[0m\n\u001b[1;32m--> 366\u001b[1;33m             \u001b[0mlinestyle\u001b[0m\u001b[1;33m,\u001b[0m \u001b[0mmarker\u001b[0m\u001b[1;33m,\u001b[0m \u001b[0mcolor\u001b[0m \u001b[1;33m=\u001b[0m \u001b[0m_process_plot_format\u001b[0m\u001b[1;33m(\u001b[0m\u001b[0mtup\u001b[0m\u001b[1;33m[\u001b[0m\u001b[1;33m-\u001b[0m\u001b[1;36m1\u001b[0m\u001b[1;33m]\u001b[0m\u001b[1;33m)\u001b[0m\u001b[1;33m\u001b[0m\u001b[1;33m\u001b[0m\u001b[0m\n\u001b[0m\u001b[0;32m    367\u001b[0m             \u001b[0mtup\u001b[0m \u001b[1;33m=\u001b[0m \u001b[0mtup\u001b[0m\u001b[1;33m[\u001b[0m\u001b[1;33m:\u001b[0m\u001b[1;33m-\u001b[0m\u001b[1;36m1\u001b[0m\u001b[1;33m]\u001b[0m\u001b[1;33m\u001b[0m\u001b[1;33m\u001b[0m\u001b[0m\n\u001b[0;32m    368\u001b[0m         \u001b[1;32melif\u001b[0m \u001b[0mlen\u001b[0m\u001b[1;33m(\u001b[0m\u001b[0mtup\u001b[0m\u001b[1;33m)\u001b[0m \u001b[1;33m==\u001b[0m \u001b[1;36m3\u001b[0m\u001b[1;33m:\u001b[0m\u001b[1;33m\u001b[0m\u001b[1;33m\u001b[0m\u001b[0m\n",
      "\u001b[1;32m~\\Documents\\Anaconda\\lib\\site-packages\\matplotlib\\axes\\_base.py\u001b[0m in \u001b[0;36m_process_plot_format\u001b[1;34m(fmt)\u001b[0m\n\u001b[0;32m     83\u001b[0m             \u001b[1;32mif\u001b[0m \u001b[0mlinestyle\u001b[0m \u001b[1;32mis\u001b[0m \u001b[1;32mnot\u001b[0m \u001b[1;32mNone\u001b[0m\u001b[1;33m:\u001b[0m\u001b[1;33m\u001b[0m\u001b[1;33m\u001b[0m\u001b[0m\n\u001b[0;32m     84\u001b[0m                 raise ValueError(\n\u001b[1;32m---> 85\u001b[1;33m                     'Illegal format string \"%s\"; two linestyle symbols' % fmt)\n\u001b[0m\u001b[0;32m     86\u001b[0m             \u001b[0mlinestyle\u001b[0m \u001b[1;33m=\u001b[0m \u001b[0mc\u001b[0m\u001b[1;33m\u001b[0m\u001b[1;33m\u001b[0m\u001b[0m\n\u001b[0;32m     87\u001b[0m             \u001b[0mi\u001b[0m \u001b[1;33m+=\u001b[0m \u001b[1;36m1\u001b[0m\u001b[1;33m\u001b[0m\u001b[1;33m\u001b[0m\u001b[0m\n",
      "\u001b[1;31mValueError\u001b[0m: Illegal format string \"r - -\"; two linestyle symbols"
     ]
    },
    {
     "data": {
      "image/png": "[encoded data removed]",
      "text/plain": [
       "<Figure size 432x288 with 1 Axes>"
      ]
     },
     "metadata": {
      "needs_background": "light"
     },
     "output_type": "display_data"
    }
   ],
   "source": [
    "#Question 3C\n",
    "plt.title(\"Log(x) vs. Log(y)\")\n",
    "plt.xlabel(\"Log(x)\")\n",
    "plt.ylabel(\"Log(y)\")\n",
    "plt.plot(np.log(x1), np.log(y1), \"r - -\")\n",
    "plt.grid(True)"
   ]
  },
  {
   "cell_type": "code",
   "execution_count": null,
   "metadata": {},
   "outputs": [],
   "source": []
  }
 ],
 "metadata": {
  "kernelspec": {
   "display_name": "Python 3",
   "language": "python",
   "name": "python3"
  },
  "language_info": {
   "codemirror_mode": {
    "name": "ipython",
    "version": 3
   },
   "file_extension": ".py",
   "mimetype": "text/x-python",
   "name": "python",
   "nbconvert_exporter": "python",
   "pygments_lexer": "ipython3",
   "version": "3.7.4"
  }
 },
 "nbformat": 4,
 "nbformat_minor": 2
}
