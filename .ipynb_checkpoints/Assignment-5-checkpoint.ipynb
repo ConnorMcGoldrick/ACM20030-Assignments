{
 "cells": [
  {
   "cell_type": "markdown",
   "metadata": {},
   "source": [
    "#  Assignment 5\n",
    "\n",
    "This assignment covers material on matrices, norms, condition numbers and eigensystems. The assignment is due by 5pm on Friday the 17th of April.\n",
    "\n",
    "The breakdown of the marks is as follows:\n",
    "\n",
    "Question 0 - [1 mark]  \n",
    "Question 1 - [7 marks]  \n",
    "Questino 2 - [6 marks]  \n",
    "Question 3 - [7 marks]  \n",
    "Question 4 - [9 marks]  "
   ]
  },
  {
   "cell_type": "markdown",
   "metadata": {},
   "source": [
    "# Question 0\n",
    "\n",
    "You should have saved this notebook to your ACM20030-Assignments folder. Now:\n",
    "- commit the notebook to your local repository\n",
    "- push the changes to the GitHub"
   ]
  },
  {
   "cell_type": "code",
   "execution_count": 2,
   "metadata": {},
   "outputs": [],
   "source": [
    "import numpy as np\n",
    "from numpy import linalg as la\n",
    "np.set_printoptions(linewidth=200)  # This stops line wrapping of larger matrices"
   ]
  },
  {
   "cell_type": "markdown",
   "metadata": {},
   "source": [
    "# Question 1 - practice manipulating arrays\n",
    "\n",
    "This questions asks you write a few functions for manipulating arrays of data"
   ]
  },
  {
   "cell_type": "markdown",
   "metadata": {},
   "source": [
    "## Q1 a\n",
    "\n",
    "Write a function that checks if a given $n\\times n$ matrix is symmetric. Use only loops and `.shape` function from numpy (do not use any other special numpy functions)."
   ]
  },
  {
   "cell_type": "code",
   "execution_count": 3,
   "metadata": {},
   "outputs": [],
   "source": [
    "def transpose(matrix, tr, n): \n",
    "    for i in range(n): \n",
    "        for j in range(n): \n",
    "            tr[i][j] = matrix[j][i] \n",
    "    \n",
    "def isSymmetric(matrix, n): \n",
    "      \n",
    "    tr = [ [0 for j in range(len(matrix[0])) ] for i in range(len(matrix)) ] \n",
    "    transpose(matrix, tr, n) \n",
    "    for i in range(n): \n",
    "        for j in range(n): \n",
    "            if (matrix[i][j] != tr[i][j]): \n",
    "                return False\n",
    "    return True\n"
   ]
  },
  {
   "cell_type": "markdown",
   "metadata": {},
   "source": [
    "Test your function on the two matrices below"
   ]
  },
  {
   "cell_type": "code",
   "execution_count": 4,
   "metadata": {},
   "outputs": [],
   "source": [
    "A = np.random.rand(5,5)\n",
    "SymMatrix = (A + A.T)/2"
   ]
  },
  {
   "cell_type": "code",
   "execution_count": 5,
   "metadata": {},
   "outputs": [
    {
     "name": "stdout",
     "output_type": "stream",
     "text": [
      "[[0.55551603 0.97828298 0.99856221 0.04253979 0.4119049 ]\n",
      " [0.12593211 0.44447217 0.38494313 0.86739616 0.44887357]\n",
      " [0.5545438  0.72329389 0.34147431 0.06613343 0.69461851]\n",
      " [0.78673599 0.51008679 0.66813357 0.03146655 0.45708082]\n",
      " [0.99053107 0.08933396 0.80777514 0.45398567 0.24682462]]\n",
      "No\n"
     ]
    }
   ],
   "source": [
    "print(A)\n",
    "\n",
    "if (isSymmetric(A, 5)): \n",
    "    print(\"Yes\")\n",
    "else: \n",
    "    print(\"No\")"
   ]
  },
  {
   "cell_type": "code",
   "execution_count": 6,
   "metadata": {},
   "outputs": [
    {
     "name": "stdout",
     "output_type": "stream",
     "text": [
      "[[0.55551603 0.55210754 0.77655301 0.41463789 0.70121798]\n",
      " [0.55210754 0.44447217 0.55411851 0.68874147 0.26910376]\n",
      " [0.77655301 0.55411851 0.34147431 0.3671335  0.75119682]\n",
      " [0.41463789 0.68874147 0.3671335  0.03146655 0.45553324]\n",
      " [0.70121798 0.26910376 0.75119682 0.45553324 0.24682462]]\n",
      "Yes\n"
     ]
    }
   ],
   "source": [
    "print(SymMatrix)\n",
    "\n",
    "if (isSymmetric(SymMatrix, 5)): \n",
    "    print(\"Yes\")\n",
    "else: \n",
    "    print(\"No\")"
   ]
  },
  {
   "cell_type": "markdown",
   "metadata": {},
   "source": [
    "## Q1 b\n",
    "\n",
    "Write a function to transpose a general $n\\times n$ matrix. Do this by writing loops and not using any special functions like `np.transpose()`, `A.T`, or any functions from any other library."
   ]
  },
  {
   "cell_type": "code",
   "execution_count": 7,
   "metadata": {},
   "outputs": [],
   "source": [
    "def transpose(A,B): \n",
    "  \n",
    "    for i in range(n): \n",
    "        for j in range(n): \n",
    "            B[i][j] = A[j][i] \n",
    "    "
   ]
  },
  {
   "cell_type": "markdown",
   "metadata": {},
   "source": [
    "Check your code by transposing the below random matrix and checking that $A^T \\neq A$ and $(A^T)^T - A = 0$"
   ]
  },
  {
   "cell_type": "code",
   "execution_count": 8,
   "metadata": {
    "scrolled": false
   },
   "outputs": [
    {
     "name": "stdout",
     "output_type": "stream",
     "text": [
      "[[0.18130847 0.74274015 0.49688508 0.520588   0.36739837 0.45787911]\n",
      " [0.95653967 0.52451803 0.58800904 0.02530077 0.76697686 0.87331898]\n",
      " [0.97474988 0.79835231 0.7697217  0.60991839 0.56367213 0.20972266]\n",
      " [0.79454861 0.72195449 0.12958759 0.96500108 0.69955061 0.03140319]\n",
      " [0.45572135 0.58020394 0.6539642  0.08804996 0.86702362 0.78768489]\n",
      " [0.93242727 0.54745948 0.11846465 0.52332619 0.65711927 0.46344024]]\n"
     ]
    }
   ],
   "source": [
    "#Since A is a 6x6 matrix, n=6\n",
    "n = 6\n",
    "A = np.random.rand(6,6)\n",
    "\n",
    "print(A)"
   ]
  },
  {
   "cell_type": "code",
   "execution_count": 9,
   "metadata": {},
   "outputs": [
    {
     "name": "stdout",
     "output_type": "stream",
     "text": [
      "Transpose of A is\n",
      "0.18130846855784688  0.9565396747028893  0.9747498797562401  0.7945486105293041  0.4557213498356838  0.9324272655480387  \n",
      "0.7427401517085741  0.5245180345632497  0.7983523073908555  0.7219544885616952  0.580203943503034  0.5474594815748737  \n",
      "0.4968850793482842  0.5880090412522458  0.7697216969312926  0.12958759160407818  0.6539641957077632  0.11846464800214496  \n",
      "0.5205879977152266  0.025300771972190272  0.6099183892737926  0.9650010771336863  0.08804995970182838  0.5233261874975678  \n",
      "0.36739837025209454  0.7669768585638023  0.5636721345867433  0.699550607064408  0.8670236185951781  0.6571192689598668  \n",
      "0.4578791101395625  0.8733189787795048  0.20972265777107646  0.03140319275941994  0.7876848851513432  0.46344023559052494  \n"
     ]
    }
   ],
   "source": [
    "#Let B be a 6x6 zero matrix\n",
    "B = [[0,0,0,0,0,0], [0,0,0,0,0,0], [0,0,0,0,0,0], [0,0,0,0,0,0], [0,0,0,0,0,0], [0,0,0,0,0,0]]\n",
    "\n",
    "transpose(A,B) \n",
    "print(\"Transpose of A is\") \n",
    "for i in range(n): \n",
    "    for j in range(n): \n",
    "        print(B[i][j], \" \", end='') \n",
    "    print() "
   ]
  },
  {
   "cell_type": "code",
   "execution_count": 10,
   "metadata": {},
   "outputs": [
    {
     "name": "stdout",
     "output_type": "stream",
     "text": [
      "[[0.18130847 0.95653967 0.97474988 0.79454861 0.45572135 0.93242727]\n",
      " [0.74274015 0.52451803 0.79835231 0.72195449 0.58020394 0.54745948]\n",
      " [0.49688508 0.58800904 0.7697217  0.12958759 0.6539642  0.11846465]\n",
      " [0.520588   0.02530077 0.60991839 0.96500108 0.08804996 0.52332619]\n",
      " [0.36739837 0.76697686 0.56367213 0.69955061 0.86702362 0.65711927]\n",
      " [0.45787911 0.87331898 0.20972266 0.03140319 0.78768489 0.46344024]]\n"
     ]
    }
   ],
   "source": [
    "print(np.transpose(A))\n",
    "\n",
    "#This gives us same as above "
   ]
  },
  {
   "cell_type": "markdown",
   "metadata": {},
   "source": [
    "## Q1c\n",
    "\n",
    "Write a function that finds the maximum entry in a matrix (where the matrix does not need to be square). Do this by writing loops and not using any special functions like `np.max` or any functions from any other library."
   ]
  },
  {
   "cell_type": "code",
   "execution_count": 11,
   "metadata": {},
   "outputs": [],
   "source": [
    "import sys \n",
    "#For 4x5 matirx n=4 and m=5\n",
    "N = 4\n",
    "M = 5\n",
    "  \n",
    "# Function to find max element  \n",
    "def findMax(matrix): \n",
    "      \n",
    "     \n",
    "    maxElement = -sys.maxsize - 1\n",
    "   \n",
    "    #loop to check if each element is greater than the max element\n",
    "    for i in range(N): \n",
    "        for j in range(M): \n",
    "            if (matrix[i][j] > maxElement): \n",
    "                maxElement = matrix[i][j] \n",
    "          \n",
    "     \n",
    "    return maxElement \n",
    "  "
   ]
  },
  {
   "cell_type": "markdown",
   "metadata": {},
   "source": [
    "Check your result by comparing to `np.max(A)` for the below random matrix"
   ]
  },
  {
   "cell_type": "code",
   "execution_count": 12,
   "metadata": {},
   "outputs": [
    {
     "name": "stdout",
     "output_type": "stream",
     "text": [
      "0.9214899488374569\n"
     ]
    }
   ],
   "source": [
    "A = np.random.rand(4,5)\n",
    "\n",
    "print(np.max(A))"
   ]
  },
  {
   "cell_type": "code",
   "execution_count": 13,
   "metadata": {},
   "outputs": [
    {
     "name": "stdout",
     "output_type": "stream",
     "text": [
      "0.9214899488374569\n"
     ]
    }
   ],
   "source": [
    "matrix = A \n",
    "\n",
    "print(findMax(matrix))"
   ]
  },
  {
   "cell_type": "markdown",
   "metadata": {},
   "source": [
    "# Question 2:  matrix norms\n",
    "\n",
    "In the lectures we focused on the $L^2$-norm. We also briefly mentioned the $L^1$ and $L^\\infty$ norm. Let's look at calculating those as well for a general $m\\times n$ matrix."
   ]
  },
  {
   "cell_type": "markdown",
   "metadata": {},
   "source": [
    "# Q2a\n",
    "\n",
    "The $L^1$ norm is given by\n",
    "\n",
    "$$ \\lVert A \\rVert_1 = \\max_j \\sum^m_{i=1} |a_{ij}| $$\n",
    "\n",
    "i.e., it is the max of the sums of the absolute values of each column. Write a function that computes the $L^1$-norm using only loops. The function should use no special numpy functions except `np.abs()`."
   ]
  },
  {
   "cell_type": "code",
   "execution_count": 14,
   "metadata": {},
   "outputs": [],
   "source": [
    "def L1Norm(a):\n",
    "    i = 0\n",
    "    j =0\n",
    "    c = 0\n",
    "    n=np.shape(a)[1]\n",
    "    d=np.zeros((n,1))\n",
    "    while j<np.shape(a)[0]:\n",
    "        i=0\n",
    "        while i<np.shape(a)[0]:\n",
    "            c+=np.abs(a[i,j])\n",
    "            i+=1\n",
    "        \n",
    "        d[j] = c\n",
    "        j+=1\n",
    "        c=0\n",
    "    return max(d)  "
   ]
  },
  {
   "cell_type": "markdown",
   "metadata": {},
   "source": [
    "Check your result against NumPy's `la.norm(A,1)` function for the following random matrix"
   ]
  },
  {
   "cell_type": "code",
   "execution_count": 15,
   "metadata": {},
   "outputs": [
    {
     "name": "stdout",
     "output_type": "stream",
     "text": [
      "[2.1634272]\n"
     ]
    }
   ],
   "source": [
    "A = np.random.rand(3,4)\n",
    "\n",
    "print(L1Norm(A))"
   ]
  },
  {
   "cell_type": "code",
   "execution_count": 16,
   "metadata": {},
   "outputs": [
    {
     "name": "stdout",
     "output_type": "stream",
     "text": [
      "[2.1634272]\n"
     ]
    }
   ],
   "source": [
    "print(L1Norm(A))"
   ]
  },
  {
   "cell_type": "markdown",
   "metadata": {},
   "source": [
    "## Q2b\n",
    "\n",
    "The $L^\\infty$ norm is given by \n",
    "\n",
    "$$\\lVert A \\rVert_\\infty = \\max_i \\sum_{j=1}^n |a_{ij}|$$\n",
    "\n",
    "i.e., it is the max of the sums of the absolute values of each row. Write a function that computes the $L^\\infty$-norm using only loops and no special numpy functions."
   ]
  },
  {
   "cell_type": "code",
   "execution_count": 17,
   "metadata": {},
   "outputs": [],
   "source": [
    "def LinfNorm(a):\n",
    "    i = 0\n",
    "    j =0\n",
    "    c = 0\n",
    "    n=np.shape(a)[1]\n",
    "    d=np.zeros((n,1))\n",
    "    while i<np.shape(a)[0]:\n",
    "        j=0\n",
    "        while j<np.shape(a)[0]:\n",
    "            c+=np.abs(a[i,j])\n",
    "            j+=1\n",
    "        \n",
    "        d[i] = c\n",
    "        i+=1\n",
    "        c=0\n",
    "    return max(d)  "
   ]
  },
  {
   "cell_type": "markdown",
   "metadata": {},
   "source": [
    "Check your result against NumPy's `la.norm(A,np.inf)` function for the following random matrix"
   ]
  },
  {
   "cell_type": "code",
   "execution_count": 18,
   "metadata": {},
   "outputs": [
    {
     "data": {
      "text/plain": [
       "2.325915240060498"
      ]
     },
     "execution_count": 18,
     "metadata": {},
     "output_type": "execute_result"
    }
   ],
   "source": [
    "A = np.random.rand(3,4)\n",
    "\n",
    "la.norm(A,np.inf)"
   ]
  },
  {
   "cell_type": "code",
   "execution_count": 19,
   "metadata": {},
   "outputs": [
    {
     "data": {
      "text/plain": [
       "array([1.68722506])"
      ]
     },
     "execution_count": 19,
     "metadata": {},
     "output_type": "execute_result"
    }
   ],
   "source": [
    "LinfNorm(A)"
   ]
  },
  {
   "cell_type": "markdown",
   "metadata": {},
   "source": [
    "# Question 3: ill-conditions systems of equations\n",
    "\n",
    "In this question you can use any of NumPy's functions.\n",
    "\n",
    "## Q3a\n",
    "\n",
    "Which of the following three matrices, $A1, A2, A3$, are ill-conditioned. State the reason for your conclusion."
   ]
  },
  {
   "cell_type": "code",
   "execution_count": 20,
   "metadata": {},
   "outputs": [],
   "source": [
    "A1 = np.array([[0.988746460106, 0.351486109477, 0.024911477532, 0.384039749683],\n",
    "       [0.282104657306, 0.239884151775, 0.36170151991 , 0.903082266861],\n",
    "       [0.59333290915 , 0.637178863968, 0.241229214635, 0.685595037901],\n",
    "       [0.013591747828, 0.917926970364, 0.458689093885, 0.157821121254]])\n",
    "\n",
    "A2 = np.array([[ 2.852416473483e-01,  3.803483118694e-01,  2.697704226632e-01,  6.810611849029e-01],\n",
    "       [ 6.622827828376e-01,  6.447943415836e-01,  4.387842058829e-01,  1.530575702376e+00],\n",
    "       [ 3.672130860703e-01,  8.309522079704e-01,  9.975487474007e-01,  5.678296337101e-01],\n",
    "       [ 4.036490000599e-01,  6.865978225967e-06,  8.788095913773e-01, -7.150472427928e-02]])\n",
    "\n",
    "A3 = np.array([[0.131923621844, 0.245316154195, 0.732362341613, 0.957047891764],\n",
    "       [0.91290446184 , 0.512312007959, 0.391938831444, 0.092509684772],\n",
    "       [0.648708523652, 0.608576675797, 0.576773587276, 0.065385122929],\n",
    "       [0.502955480393, 0.084082960221, 0.659487390444, 0.662958739412]])"
   ]
  },
  {
   "cell_type": "code",
   "execution_count": 21,
   "metadata": {},
   "outputs": [
    {
     "name": "stdout",
     "output_type": "stream",
     "text": [
      "Condition number of A1:\t 21.552466488381857\n",
      "Condition number of A2:\t 13334923332.407896\n",
      "Condition number of A3:\t 15.122449699410629\n"
     ]
    }
   ],
   "source": [
    "eigenvaluesA1 = la.eig(A1.T@A1)[0]\n",
    "lmaxA1 = np.max(eigenvaluesA1)\n",
    "lmaxA1 = np.min(eigenvaluesA1)\n",
    "print(\"Condition number of A1:\\t\", la.norm(A1,2)*la.norm(la.inv(A1),2))\n",
    "\n",
    "eigenvaluesA2 = la.eig(A2.T@A2)[0]\n",
    "lmaxA2 = np.max(eigenvaluesA2)\n",
    "lmaxA2 = np.min(eigenvaluesA2)\n",
    "print(\"Condition number of A2:\\t\", la.norm(A2,2)*la.norm(la.inv(A2),2))\n",
    "\n",
    "\n",
    "eigenvaluesA3 = la.eig(A3.T@A3)[0]\n",
    "lmaxA3 = np.max(eigenvaluesA3)\n",
    "lmaxA3 = np.min(eigenvaluesA3)\n",
    "print(\"Condition number of A3:\\t\", la.norm(A3,2)*la.norm(la.inv(A3),2))"
   ]
  },
  {
   "cell_type": "code",
   "execution_count": 22,
   "metadata": {},
   "outputs": [],
   "source": [
    "#The condition numbers of each matrix is quite high so we can say they are all relatively ill-conditioned\n",
    "#The condition number of a well conditioned matrix is as close to 1 as possible\n",
    "#However the condtion number of A2 is extremely high compared to that of A1 and A3 and therefore is the most ill-conditioned"
   ]
  },
  {
   "cell_type": "markdown",
   "metadata": {},
   "source": [
    "# Q3b\n",
    "\n",
    "With $b = [1,2,3,4]$ and $\\delta b = [0.1,0,0,0]$ for $A2$ and $A3$ calculate the percentage change in $x$ due to a small change in $b$, i.e., calculate \n",
    "\n",
    "$$100\\times\\frac{\\lVert \\delta x_i\\rVert_2}{\\lVert x_i \\rVert_2}\\quad\\text{and}\\quad 100\\times\\frac{\\lVert \\delta b\\rVert_2}{\\lVert b \\rVert_2}$$\n",
    "\n",
    "where $(x_i+\\delta x_i)  = A_i^{-1}(b+\\delta b)$ and $i\\in\\{2,3\\}$."
   ]
  },
  {
   "cell_type": "code",
   "execution_count": 34,
   "metadata": {},
   "outputs": [],
   "source": [
    "b = np.array([1, 2, 3, 4])\n",
    "db = np.array([0.1 ,0, 0, 0])\n",
    "nb = b + db\n",
    "x2 = la.inv(A2)@(b)\n",
    "dx2 = la.inv(A2)@(nb) - x2\n",
    "x3 = la.inv(A3)@(b)\n",
    "dx3 = la.inv(A3)@(nb) - x3"
   ]
  },
  {
   "cell_type": "code",
   "execution_count": 35,
   "metadata": {},
   "outputs": [
    {
     "name": "stdout",
     "output_type": "stream",
     "text": [
      "Change in b = 1.8257%\n",
      "change in x for A2 = 512.6206%\n",
      "change in x for A3 = 2.1738%\n"
     ]
    }
   ],
   "source": [
    "print(\"Change in b = %.4f%%\" %(100*(la.norm(db,2)/la.norm(b,2))))\n",
    "\n",
    "print(\"change in x for A2 = %.4f%%\" %(100*(la.norm(dx2,2)/la.norm(x2,2))))\n",
    "\n",
    "print(\"change in x for A3 = %.4f%%\" %(100*(la.norm(dx3,2)/la.norm(x3,2))))"
   ]
  },
  {
   "cell_type": "markdown",
   "metadata": {},
   "source": [
    "Which system of equations is more sensitive to small changes in $b$? How could you have guessed this from the answer to the Q3a?"
   ]
  },
  {
   "cell_type": "code",
   "execution_count": 10,
   "metadata": {},
   "outputs": [],
   "source": [
    "# Answer here\n",
    "# We can see that the A2 system is way more sensitive to small changes in b\n",
    "#We could have guessed this from Q3(a) from the high condition number on A2"
   ]
  },
  {
   "cell_type": "markdown",
   "metadata": {},
   "source": [
    "# Question 4: eigensystems\n",
    "\n",
    "In this question we look at finding eigenvalues and eigenvectors\n",
    "\n",
    "## Q4a\n",
    "\n",
    "You may use any of NumPy's functions for this sub-question.\n",
    "\n",
    "Find the eigenvalues and eigenvectors for the below matrix. Print out the eigenvalues sorted by descending value and explicitly show that eigenvalues/eigenvector pairs satisfy $Ax = \\lambda x$."
   ]
  },
  {
   "cell_type": "code",
   "execution_count": 23,
   "metadata": {},
   "outputs": [],
   "source": [
    "A = np.array([[1,4,5],[4,5,4],[6,7,9]])"
   ]
  },
  {
   "cell_type": "code",
   "execution_count": 24,
   "metadata": {},
   "outputs": [
    {
     "name": "stdout",
     "output_type": "stream",
     "text": [
      "Eigenvalues =  [15.78569318 -2.05164645  1.26595327]\n"
     ]
    }
   ],
   "source": [
    "eigs = la.eig(A)\n",
    "print(\"Eigenvalues = \", eigs[0])"
   ]
  },
  {
   "cell_type": "code",
   "execution_count": 25,
   "metadata": {},
   "outputs": [
    {
     "name": "stdout",
     "output_type": "stream",
     "text": [
      "Eigenvector 0 =  [-0.39252008 -0.44424151 -0.80534308]\n",
      "Eigenvector 1 =  [-0.89589878  0.36255198  0.25675168]\n",
      "Eigenvector 2 =  [ 0.09818766 -0.77454142  0.6248558 ]\n"
     ]
    }
   ],
   "source": [
    "print(\"Eigenvector 0 = \", eigs[1][:,0])\n",
    "print(\"Eigenvector 1 = \", eigs[1][:,1])\n",
    "print(\"Eigenvector 2 = \", eigs[1][:,2])"
   ]
  },
  {
   "cell_type": "code",
   "execution_count": 26,
   "metadata": {},
   "outputs": [
    {
     "name": "stdout",
     "output_type": "stream",
     "text": [
      "[ -6.1962015   -7.01266016 -12.71289871]\n",
      "[ -6.1962015   -7.01266016 -12.71289871]\n"
     ]
    }
   ],
   "source": [
    "#Eigenvector 0\n",
    "print(np.dot(A,eigs[1][:,0]))\n",
    "print(eigs[0][0]*eigs[1][:,0])"
   ]
  },
  {
   "cell_type": "code",
   "execution_count": 27,
   "metadata": {},
   "outputs": [
    {
     "name": "stdout",
     "output_type": "stream",
     "text": [
      "[ 1.83806756 -0.74382849 -0.52676368]\n",
      "[ 1.83806756 -0.74382849 -0.52676368]\n"
     ]
    }
   ],
   "source": [
    "#Eigenvector 1\n",
    "print(np.dot(A,eigs[1][:,1]))\n",
    "print(eigs[0][1]*eigs[1][:,1])"
   ]
  },
  {
   "cell_type": "code",
   "execution_count": 28,
   "metadata": {},
   "outputs": [
    {
     "name": "stdout",
     "output_type": "stream",
     "text": [
      "[ 0.12430099 -0.98053324  0.79103825]\n",
      "[ 0.12430099 -0.98053324  0.79103825]\n"
     ]
    }
   ],
   "source": [
    "#Eigenvector 2\n",
    "print(np.dot(A,eigs[1][:,2]))\n",
    "print(eigs[0][2]*eigs[1][:,2])"
   ]
  },
  {
   "cell_type": "markdown",
   "metadata": {},
   "source": [
    "# Q4b\n",
    "\n",
    "Without using NumPy's `la.eig()` (or similar functions), find the 4 eigenvalues and eigenvectors of the following matrix. Hint: Use the power method for the max eigenvalue (given below in `MaxEigenvalue`), the power method applied to the inverse for the smallest eigenvalue, and apply Hotelling's deflation twice to find the second and third eigenvalues/eigenvectors."
   ]
  },
  {
   "cell_type": "code",
   "execution_count": 29,
   "metadata": {},
   "outputs": [],
   "source": [
    "A = np.array([[1.935052353404, 0.887037260957, 1.534235483277, 1.370691224125],\n",
    "       [0.887037260957, 0.81275989158 , 0.610238622918, 0.999150521052],\n",
    "       [1.534235483277, 0.610238622918, 1.562260333538, 1.007843062517],\n",
    "       [1.370691224125, 0.999150521052, 1.007843062517, 1.813258814483]])"
   ]
  },
  {
   "cell_type": "code",
   "execution_count": 53,
   "metadata": {},
   "outputs": [],
   "source": [
    "def MaxEigenvalue(A, err):\n",
    "    (m,n) = A.shape\n",
    "    if(m != n):\n",
    "        print(\"Matrix must be square\")\n",
    "        return\n",
    "    x = np.random.rand(m)\n",
    "    \n",
    "    lam = 0.1\n",
    "    lamprev = 1\n",
    "    while np.abs(1-lam/lamprev) > err:\n",
    "        p = np.dot(A,x)\n",
    "        lamprev = lam\n",
    "        lam = np.max(p)\n",
    "        x = p/lam\n",
    "        \n",
    "    x = x/la.norm(x)\n",
    "    return (lam,x)"
   ]
  },
  {
   "cell_type": "code",
   "execution_count": null,
   "metadata": {},
   "outputs": [],
   "source": []
  },
  {
   "cell_type": "markdown",
   "metadata": {},
   "source": [
    "Check your answers against Numpy's results from `la.eig(A)`"
   ]
  },
  {
   "cell_type": "code",
   "execution_count": 31,
   "metadata": {},
   "outputs": [
    {
     "name": "stdout",
     "output_type": "stream",
     "text": [
      "(array([4.91480442, 0.85058153, 0.14281707, 0.21512836]), array([[ 0.59947641,  0.30724064, -0.63319959, -0.3811686 ],\n",
      "       [ 0.33318806, -0.3894447 ,  0.53214542, -0.67389895],\n",
      "       [ 0.49528112,  0.58292464,  0.54707607,  0.34000478],\n",
      "       [ 0.53320761, -0.64353313, -0.12879172,  0.53382343]]))\n"
     ]
    }
   ],
   "source": [
    "print(la.eig(A))"
   ]
  },
  {
   "cell_type": "code",
   "execution_count": null,
   "metadata": {},
   "outputs": [],
   "source": []
  }
 ],
 "metadata": {
  "kernelspec": {
   "display_name": "Python 3",
   "language": "python",
   "name": "python3"
  },
  "language_info": {
   "codemirror_mode": {
    "name": "ipython",
    "version": 3
   },
   "file_extension": ".py",
   "mimetype": "text/x-python",
   "name": "python",
   "nbconvert_exporter": "python",
   "pygments_lexer": "ipython3",
   "version": "3.7.4"
  }
 },
 "nbformat": 4,
 "nbformat_minor": 2
}
